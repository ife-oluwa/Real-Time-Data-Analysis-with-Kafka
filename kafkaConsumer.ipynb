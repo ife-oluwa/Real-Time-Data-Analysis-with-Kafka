{
 "cells": [
  {
   "cell_type": "code",
   "execution_count": 1,
   "metadata": {},
   "outputs": [
    {
     "name": "stdout",
     "output_type": "stream",
     "text": [
      "Requirement already satisfied: kafka-python in c:\\users\\ifeol\\anaconda3\\lib\\site-packages (2.0.2)\n",
      "Note: you may need to restart the kernel to use updated packages.\n"
     ]
    }
   ],
   "source": [
    "%pip install kafka-python"
   ]
  },
  {
   "cell_type": "code",
   "execution_count": 2,
   "metadata": {},
   "outputs": [],
   "source": [
    "import json\n",
    "from kafka import KafkaConsumer\n",
    "from json import dumps, loads\n",
    "from time import sleep\n"
   ]
  },
  {
   "cell_type": "code",
   "execution_count": 3,
   "metadata": {},
   "outputs": [],
   "source": [
    "consumer = KafkaConsumer(\n",
    "    'Stocks', \n",
    "    bootstrap_servers = ['54.234.146.17:9092'],\n",
    "    value_deserializer = lambda x: loads(x.decode('utf-8'))\n",
    "    )"
   ]
  },
  {
   "cell_type": "code",
   "execution_count": 4,
   "metadata": {},
   "outputs": [
    {
     "name": "stdout",
     "output_type": "stream",
     "text": [
      "{'Index': 'HSI', 'Date': '1986-12-31', 'Open': 2568.300049}\n",
      "{'Index': 'HSI', 'Date': '1987-01-02', 'Open': 2540.100098}\n",
      "{'Index': 'HSI', 'Date': '1987-01-05', 'Open': 2552.399902}\n",
      "{'Index': 'HSI', 'Date': '1987-01-06', 'Open': 2583.899902}\n",
      "{'Index': 'HSI', 'Date': '1987-01-07', 'Open': 2607.100098}\n",
      "{'Index': 'IXIC', 'Date': '1997-01-23', 'Open': 1393.150024}\n",
      "{'Index': 'TWII', 'Date': '1998-09-10', 'Open': 6803.259766}\n",
      "{'Index': 'TWII', 'Date': '2000-09-20', 'Open': 6843.950195}\n",
      "{'Index': 'SSMI', 'Date': '2001-10-05', 'Open': 5925.5}\n",
      "{'Index': 'NYA', 'Date': '1999-07-26', 'Open': 6723.839844}\n",
      "{'Index': {'59611': 'N100', '6501': 'HSI', '76153': 'GSPTSE', '23260': 'IXIC', '58843': 'N100'}, 'Date': {'59611': '2018-11-05', '6501': '2013-04-30', '76153': '2019-10-25', '23260': '1974-05-09', '58843': '2015-11-04'}, 'Open': {'59611': 991.119995, '6501': 22769.58984, '76153': 16369.79981, '23260': 85.809998, '58843': 952.349976}, 'High': {'59611': 994.070007, '6501': 22862.68945, '76153': 16425.0, '23260': 85.809998, '58843': 959.799988}, 'Low': {'59611': 988.789978, '6501': 22669.53906, '76153': 16356.5, '23260': 85.809998, '58843': 951.22998}, 'Close': {'59611': 989.440002, '6501': 22737.00977, '76153': 16404.5, '23260': 85.809998, '58843': 952.559998}, 'Adj Close': {'59611': 989.440002, '6501': 22737.00977, '76153': 16404.5, '23260': 85.809998, '58843': 952.559998}, 'Volume': {'59611': 149887700.0, '6501': 1599208700.0, '76153': 17351830000.0, '23260': 0.0, '58843': 259280500.0}, 'CloseUSD': {'59611': 1207.11680244, '6501': 2955.8112701, '76153': 13615.735, '23260': 85.809998, '58843': 1162.12319756}}\n",
      "[{'Index': '000001.SS', 'Date': '1998-09-01', 'Open': 1142.5, 'High': 1163.171021, 'Low': 1123.63501, 'Close': 1143.125, 'Adj Close': 1143.125, 'Volume': 0.0, 'CloseUSD': 182.9}, {'Index': 'HSI', 'Date': '2012-07-18', 'Open': 19452.24023, 'High': 19452.24023, 'Low': 19134.57031, 'Close': 19239.88086, 'Adj Close': 19239.88086, 'Volume': 1169099100.0, 'CloseUSD': 2501.1845118}, {'Index': '399001.SZ', 'Date': '2007-08-21', 'Open': 16734.13086, 'High': 16939.44922, 'Low': 16661.83008, 'Close': 16859.9707, 'Adj Close': 16859.78125, 'Volume': 99300.0, 'CloseUSD': 2697.5953120000004}, {'Index': 'HSI', 'Date': '2017-04-27', 'Open': 24663.09961, 'High': 24717.43945, 'Low': 24455.11914, 'Close': 24698.48047, 'Adj Close': 24698.48047, 'Volume': 1567031000.0, 'CloseUSD': 3210.8024611}, {'Index': 'NSEI', 'Date': '2018-07-09', 'Open': 10838.29981, 'High': 10860.34961, 'Low': 10807.15039, 'Close': 10852.90039, 'Adj Close': 10852.90039, 'Volume': 183600.0, 'CloseUSD': 108.5290039}]\n",
      "[{'Index': 'NYA', 'Date': '2015-07-27', 'Open': 10688.86035, 'High': 10698.53027, 'Low': 10636.26953, 'Close': 10656.61035, 'Adj Close': 10656.61035, 'Volume': 3836750000.0, 'CloseUSD': 10656.61035}]\n",
      "[{'Index': 'IXIC', 'Date': '1993-02-19', 'Open': 664.789978, 'High': 666.169983, 'Low': 661.179993, 'Close': 663.609985, 'Adj Close': 663.609985, 'Volume': 243300000.0, 'CloseUSD': 663.609985}]\n",
      "[{'Index': 'IXIC', 'Date': '1979-07-20', 'Open': 137.979996, 'High': 137.979996, 'Low': 137.979996, 'Close': 137.979996, 'Adj Close': 137.979996, 'Volume': 0.0, 'CloseUSD': 137.979996}]\n",
      "[{'Index': 'HSI', 'Date': '1998-01-15', 'Open': 9094.099609, 'High': 9094.099609, 'Low': 8471.700195, 'Close': 8579.0, 'Adj Close': 8579.0, 'Volume': 0.0, 'CloseUSD': 1115.27}]\n",
      "{'Index': 'N225', 'Date': '2002-12-30', 'Open': 8617.650391, 'High': 8617.650391, 'Low': 8543.700195, 'Close': 8578.950195, 'Adj Close': 8578.950195, 'Volume': 16800000.0, 'CloseUSD': 85.78950195}\n",
      "{'Index': 'SSMI', 'Date': '2011-03-07', 'Open': 6509.379883, 'High': 6558.549805, 'Low': 6482.830078, 'Close': 6495.52002, 'Adj Close': 6495.52002, 'Volume': 46914800.0, 'CloseUSD': 7210.0272222}\n",
      "{'Index': 'HSI', 'Date': '2014-10-24', 'Open': 23311.88086, 'High': 23352.58984, 'Low': 23157.48047, 'Close': 23302.19922, 'Adj Close': 23302.19922, 'Volume': 1201348100.0, 'CloseUSD': 3029.2858986}\n",
      "{'Index': 'IXIC', 'Date': '1974-04-25', 'Open': 86.040001, 'High': 86.040001, 'Low': 86.040001, 'Close': 86.040001, 'Adj Close': 86.040001, 'Volume': 0.0, 'CloseUSD': 86.040001}\n",
      "{'Index': 'N225', 'Date': '1971-12-07', 'Open': 2481.689941, 'High': 2481.689941, 'Low': 2481.689941, 'Close': 2481.689941, 'Adj Close': 2481.689941, 'Volume': 0.0, 'CloseUSD': 24.81689941}\n",
      "{'Index': '000001.SS', 'Date': '2006-10-09', 'Open': 1768.144043, 'High': 1786.109985, 'Low': 1763.110962, 'Close': 1785.38501, 'Adj Close': 1785.38501, 'Volume': 53000.0, 'CloseUSD': 285.6616016}\n",
      "{'Index': 'NYA', 'Date': '2014-07-30', 'Open': 10957.98047, 'High': 10974.17969, 'Low': 10887.08984, 'Close': 10929.79004, 'Adj Close': 10929.79004, 'Volume': 3448250000.0, 'CloseUSD': 10929.79004}\n",
      "{'Index': 'IXIC', 'Date': '1994-03-16', 'Open': 794.809998, 'High': 799.02002, 'Low': 794.460022, 'Close': 798.98999, 'Adj Close': 798.98999, 'Volume': 338010000.0, 'CloseUSD': 798.98999}\n",
      "{'Index': 'GDAXI', 'Date': '1989-03-22', 'Open': 1308.790039, 'High': 1308.790039, 'Low': 1308.790039, 'Close': 1308.790039, 'Adj Close': 1308.790039, 'Volume': 0.0, 'CloseUSD': 1596.72384758}\n",
      "{'Index': 'IXIC', 'Date': '1986-07-31', 'Open': 371.5, 'High': 371.600006, 'Low': 370.799988, 'Close': 371.399994, 'Adj Close': 371.399994, 'Volume': 98640000.0, 'CloseUSD': 371.399994}\n",
      "{'Index': 'N225', 'Date': '1991-06-11', 'Open': 24571.94922, 'High': 24721.26953, 'Low': 24460.30078, 'Close': 24662.58984, 'Adj Close': 24662.58984, 'Volume': 0.0, 'CloseUSD': 246.6258984}\n",
      "{'Index': 'GSPTSE', 'Date': '2012-02-24', 'Open': 12742.0, 'High': 12763.79981, 'Low': 12710.59961, 'Close': 12725.79981, 'Adj Close': 12725.79981, 'Volume': 19960610000.0, 'CloseUSD': 10562.4138423}\n",
      "{'Index': 'TWII', 'Date': '2008-05-20', 'Open': 9309.950195, 'High': 9309.950195, 'Low': 9057.30957, 'Close': 9068.889648, 'Adj Close': 9068.855469, 'Volume': 6496800.0, 'CloseUSD': 362.75558592}\n",
      "{'Index': 'HSI', 'Date': '2017-02-23', 'Open': 24122.17969, 'High': 24216.5293, 'Low': 24046.91016, 'Close': 24114.85938, 'Adj Close': 24114.85938, 'Volume': 1880958700.0, 'CloseUSD': 3134.9317194000005}\n",
      "{'Index': '000001.SS', 'Date': '2016-01-11', 'Open': 3131.853027, 'High': 3166.215088, 'Low': 3016.697021, 'Close': 3016.704102, 'Adj Close': 3016.704102, 'Volume': 271600.0, 'CloseUSD': 482.67265632}\n",
      "{'Index': 'HSI', 'Date': '2012-06-21', 'Open': 19480.71094, 'High': 19495.53906, 'Low': 19258.10938, 'Close': 19265.07031, 'Adj Close': 19265.07031, 'Volume': 1298230800.0, 'CloseUSD': 2504.4591403}\n",
      "{'Index': '399001.SZ', 'Date': '2009-09-17', 'Open': 12334.95996, 'High': 12521.87988, 'Low': 12334.95996, 'Close': 12473.61035, 'Adj Close': 12473.4707, 'Volume': 101900.0, 'CloseUSD': 1995.777656}\n",
      "{'Index': 'HSI', 'Date': '1996-11-08', 'Open': 12721.5, 'High': 12776.5, 'Low': 12667.7002, 'Close': 12751.2002, 'Adj Close': 12751.2002, 'Volume': 0.0, 'CloseUSD': 1657.656026}\n",
      "{'Index': 'NSEI', 'Date': '2015-09-14', 'Open': 7811.100098, 'High': 7879.950195, 'Low': 7761.850098, 'Close': 7872.25, 'Adj Close': 7872.25, 'Volume': 122800.0, 'CloseUSD': 78.7225}\n",
      "{'Index': 'J203.JO', 'Date': '2019-08-05', 'Open': 56273.92188, 'High': 56273.92188, 'Low': 54855.46094, 'Close': 54975.37891, 'Adj Close': 54975.37891, 'Volume': 0.0, 'CloseUSD': 3848.2765237}\n",
      "{'Index': 'J203.JO', 'Date': '2012-03-15', 'Open': 34426.73828, 'High': 34601.26953, 'Low': 34156.71094, 'Close': 34215.30078, 'Adj Close': 34215.30078, 'Volume': 0.0, 'CloseUSD': 2395.0710546}\n",
      "{'Index': 'J203.JO', 'Date': '2021-02-01', 'Open': 62472.10156, 'High': 63357.01953, 'Low': 62472.10156, 'Close': 62796.64844, 'Adj Close': 62796.64844, 'Volume': 0.0, 'CloseUSD': 4395.7653908}\n",
      "{'Index': '399001.SZ', 'Date': '1999-02-01', 'Open': 2917.939941, 'High': 2942.330078, 'Low': 2902.149902, 'Close': 2911.52002, 'Adj Close': 2911.487305, 'Volume': 0.0, 'CloseUSD': 465.8432032}\n",
      "{'Index': 'NYA', 'Date': '1980-06-23', 'Open': 692.159973, 'High': 692.159973, 'Low': 692.159973, 'Close': 692.159973, 'Adj Close': 692.159973, 'Volume': 0.0, 'CloseUSD': 692.159973}\n",
      "{'Index': 'NSEI', 'Date': '2020-12-24', 'Open': 13672.15039, 'High': 13771.75, 'Low': 13626.90039, 'Close': 13749.25, 'Adj Close': 13749.25, 'Volume': 471400.0, 'CloseUSD': 137.4925}\n"
     ]
    },
    {
     "ename": "KeyboardInterrupt",
     "evalue": "",
     "output_type": "error",
     "traceback": [
      "\u001b[1;31m---------------------------------------------------------------------------\u001b[0m",
      "\u001b[1;31mKeyboardInterrupt\u001b[0m                         Traceback (most recent call last)",
      "\u001b[1;32mc:\\Users\\ifeol\\Documents\\Projects\\Portfolio\\Real-time analysis using Kafka\\kafkaConsumer.ipynb Cell 4\u001b[0m in \u001b[0;36m<cell line: 1>\u001b[1;34m()\u001b[0m\n\u001b[1;32m----> <a href='vscode-notebook-cell:/c%3A/Users/ifeol/Documents/Projects/Portfolio/Real-time%20analysis%20using%20Kafka/kafkaConsumer.ipynb#W3sZmlsZQ%3D%3D?line=0'>1</a>\u001b[0m \u001b[39mfor\u001b[39;00m c \u001b[39min\u001b[39;00m consumer:\n\u001b[0;32m      <a href='vscode-notebook-cell:/c%3A/Users/ifeol/Documents/Projects/Portfolio/Real-time%20analysis%20using%20Kafka/kafkaConsumer.ipynb#W3sZmlsZQ%3D%3D?line=1'>2</a>\u001b[0m     \u001b[39mprint\u001b[39m(c\u001b[39m.\u001b[39mvalue)\n",
      "File \u001b[1;32mc:\\Users\\ifeol\\anaconda3\\lib\\site-packages\\kafka\\consumer\\group.py:1193\u001b[0m, in \u001b[0;36mKafkaConsumer.__next__\u001b[1;34m(self)\u001b[0m\n\u001b[0;32m   1191\u001b[0m     \u001b[39mreturn\u001b[39;00m \u001b[39mself\u001b[39m\u001b[39m.\u001b[39mnext_v1()\n\u001b[0;32m   1192\u001b[0m \u001b[39melse\u001b[39;00m:\n\u001b[1;32m-> 1193\u001b[0m     \u001b[39mreturn\u001b[39;00m \u001b[39mself\u001b[39;49m\u001b[39m.\u001b[39;49mnext_v2()\n",
      "File \u001b[1;32mc:\\Users\\ifeol\\anaconda3\\lib\\site-packages\\kafka\\consumer\\group.py:1201\u001b[0m, in \u001b[0;36mKafkaConsumer.next_v2\u001b[1;34m(self)\u001b[0m\n\u001b[0;32m   1199\u001b[0m     \u001b[39mself\u001b[39m\u001b[39m.\u001b[39m_iterator \u001b[39m=\u001b[39m \u001b[39mself\u001b[39m\u001b[39m.\u001b[39m_message_generator_v2()\n\u001b[0;32m   1200\u001b[0m \u001b[39mtry\u001b[39;00m:\n\u001b[1;32m-> 1201\u001b[0m     \u001b[39mreturn\u001b[39;00m \u001b[39mnext\u001b[39;49m(\u001b[39mself\u001b[39;49m\u001b[39m.\u001b[39;49m_iterator)\n\u001b[0;32m   1202\u001b[0m \u001b[39mexcept\u001b[39;00m \u001b[39mStopIteration\u001b[39;00m:\n\u001b[0;32m   1203\u001b[0m     \u001b[39mself\u001b[39m\u001b[39m.\u001b[39m_iterator \u001b[39m=\u001b[39m \u001b[39mNone\u001b[39;00m\n",
      "File \u001b[1;32mc:\\Users\\ifeol\\anaconda3\\lib\\site-packages\\kafka\\consumer\\group.py:1116\u001b[0m, in \u001b[0;36mKafkaConsumer._message_generator_v2\u001b[1;34m(self)\u001b[0m\n\u001b[0;32m   1114\u001b[0m \u001b[39mdef\u001b[39;00m \u001b[39m_message_generator_v2\u001b[39m(\u001b[39mself\u001b[39m):\n\u001b[0;32m   1115\u001b[0m     timeout_ms \u001b[39m=\u001b[39m \u001b[39m1000\u001b[39m \u001b[39m*\u001b[39m (\u001b[39mself\u001b[39m\u001b[39m.\u001b[39m_consumer_timeout \u001b[39m-\u001b[39m time\u001b[39m.\u001b[39mtime())\n\u001b[1;32m-> 1116\u001b[0m     record_map \u001b[39m=\u001b[39m \u001b[39mself\u001b[39;49m\u001b[39m.\u001b[39;49mpoll(timeout_ms\u001b[39m=\u001b[39;49mtimeout_ms, update_offsets\u001b[39m=\u001b[39;49m\u001b[39mFalse\u001b[39;49;00m)\n\u001b[0;32m   1117\u001b[0m     \u001b[39mfor\u001b[39;00m tp, records \u001b[39min\u001b[39;00m six\u001b[39m.\u001b[39miteritems(record_map):\n\u001b[0;32m   1118\u001b[0m         \u001b[39m# Generators are stateful, and it is possible that the tp / records\u001b[39;00m\n\u001b[0;32m   1119\u001b[0m         \u001b[39m# here may become stale during iteration -- i.e., we seek to a\u001b[39;00m\n\u001b[0;32m   1120\u001b[0m         \u001b[39m# different offset, pause consumption, or lose assignment.\u001b[39;00m\n\u001b[0;32m   1121\u001b[0m         \u001b[39mfor\u001b[39;00m record \u001b[39min\u001b[39;00m records:\n\u001b[0;32m   1122\u001b[0m             \u001b[39m# is_fetchable(tp) should handle assignment changes and offset\u001b[39;00m\n\u001b[0;32m   1123\u001b[0m             \u001b[39m# resets; for all other changes (e.g., seeks) we'll rely on the\u001b[39;00m\n\u001b[0;32m   1124\u001b[0m             \u001b[39m# outer function destroying the existing iterator/generator\u001b[39;00m\n\u001b[0;32m   1125\u001b[0m             \u001b[39m# via self._iterator = None\u001b[39;00m\n",
      "File \u001b[1;32mc:\\Users\\ifeol\\anaconda3\\lib\\site-packages\\kafka\\consumer\\group.py:655\u001b[0m, in \u001b[0;36mKafkaConsumer.poll\u001b[1;34m(self, timeout_ms, max_records, update_offsets)\u001b[0m\n\u001b[0;32m    653\u001b[0m remaining \u001b[39m=\u001b[39m timeout_ms\n\u001b[0;32m    654\u001b[0m \u001b[39mwhile\u001b[39;00m \u001b[39mTrue\u001b[39;00m:\n\u001b[1;32m--> 655\u001b[0m     records \u001b[39m=\u001b[39m \u001b[39mself\u001b[39;49m\u001b[39m.\u001b[39;49m_poll_once(remaining, max_records, update_offsets\u001b[39m=\u001b[39;49mupdate_offsets)\n\u001b[0;32m    656\u001b[0m     \u001b[39mif\u001b[39;00m records:\n\u001b[0;32m    657\u001b[0m         \u001b[39mreturn\u001b[39;00m records\n",
      "File \u001b[1;32mc:\\Users\\ifeol\\anaconda3\\lib\\site-packages\\kafka\\consumer\\group.py:702\u001b[0m, in \u001b[0;36mKafkaConsumer._poll_once\u001b[1;34m(self, timeout_ms, max_records, update_offsets)\u001b[0m\n\u001b[0;32m    699\u001b[0m     \u001b[39mself\u001b[39m\u001b[39m.\u001b[39m_client\u001b[39m.\u001b[39mpoll(timeout_ms\u001b[39m=\u001b[39m\u001b[39m0\u001b[39m)\n\u001b[0;32m    701\u001b[0m timeout_ms \u001b[39m=\u001b[39m \u001b[39mmin\u001b[39m(timeout_ms, \u001b[39mself\u001b[39m\u001b[39m.\u001b[39m_coordinator\u001b[39m.\u001b[39mtime_to_next_poll() \u001b[39m*\u001b[39m \u001b[39m1000\u001b[39m)\n\u001b[1;32m--> 702\u001b[0m \u001b[39mself\u001b[39;49m\u001b[39m.\u001b[39;49m_client\u001b[39m.\u001b[39;49mpoll(timeout_ms\u001b[39m=\u001b[39;49mtimeout_ms)\n\u001b[0;32m    703\u001b[0m \u001b[39m# after the long poll, we should check whether the group needs to rebalance\u001b[39;00m\n\u001b[0;32m    704\u001b[0m \u001b[39m# prior to returning data so that the group can stabilize faster\u001b[39;00m\n\u001b[0;32m    705\u001b[0m \u001b[39mif\u001b[39;00m \u001b[39mself\u001b[39m\u001b[39m.\u001b[39m_coordinator\u001b[39m.\u001b[39mneed_rejoin():\n",
      "File \u001b[1;32mc:\\Users\\ifeol\\anaconda3\\lib\\site-packages\\kafka\\client_async.py:602\u001b[0m, in \u001b[0;36mKafkaClient.poll\u001b[1;34m(self, timeout_ms, future)\u001b[0m\n\u001b[0;32m    599\u001b[0m             timeout \u001b[39m=\u001b[39m \u001b[39mmin\u001b[39m(timeout, \u001b[39mself\u001b[39m\u001b[39m.\u001b[39mconfig[\u001b[39m'\u001b[39m\u001b[39mretry_backoff_ms\u001b[39m\u001b[39m'\u001b[39m])\n\u001b[0;32m    600\u001b[0m         timeout \u001b[39m=\u001b[39m \u001b[39mmax\u001b[39m(\u001b[39m0\u001b[39m, timeout)  \u001b[39m# avoid negative timeouts\u001b[39;00m\n\u001b[1;32m--> 602\u001b[0m     \u001b[39mself\u001b[39;49m\u001b[39m.\u001b[39;49m_poll(timeout \u001b[39m/\u001b[39;49m \u001b[39m1000\u001b[39;49m)\n\u001b[0;32m    604\u001b[0m \u001b[39m# called without the lock to avoid deadlock potential\u001b[39;00m\n\u001b[0;32m    605\u001b[0m \u001b[39m# if handlers need to acquire locks\u001b[39;00m\n\u001b[0;32m    606\u001b[0m responses\u001b[39m.\u001b[39mextend(\u001b[39mself\u001b[39m\u001b[39m.\u001b[39m_fire_pending_completed_requests())\n",
      "File \u001b[1;32mc:\\Users\\ifeol\\anaconda3\\lib\\site-packages\\kafka\\client_async.py:634\u001b[0m, in \u001b[0;36mKafkaClient._poll\u001b[1;34m(self, timeout)\u001b[0m\n\u001b[0;32m    631\u001b[0m \u001b[39mself\u001b[39m\u001b[39m.\u001b[39m_register_send_sockets()\n\u001b[0;32m    633\u001b[0m start_select \u001b[39m=\u001b[39m time\u001b[39m.\u001b[39mtime()\n\u001b[1;32m--> 634\u001b[0m ready \u001b[39m=\u001b[39m \u001b[39mself\u001b[39;49m\u001b[39m.\u001b[39;49m_selector\u001b[39m.\u001b[39;49mselect(timeout)\n\u001b[0;32m    635\u001b[0m end_select \u001b[39m=\u001b[39m time\u001b[39m.\u001b[39mtime()\n\u001b[0;32m    636\u001b[0m \u001b[39mif\u001b[39;00m \u001b[39mself\u001b[39m\u001b[39m.\u001b[39m_sensors:\n",
      "File \u001b[1;32mc:\\Users\\ifeol\\anaconda3\\lib\\selectors.py:324\u001b[0m, in \u001b[0;36mSelectSelector.select\u001b[1;34m(self, timeout)\u001b[0m\n\u001b[0;32m    322\u001b[0m ready \u001b[39m=\u001b[39m []\n\u001b[0;32m    323\u001b[0m \u001b[39mtry\u001b[39;00m:\n\u001b[1;32m--> 324\u001b[0m     r, w, _ \u001b[39m=\u001b[39m \u001b[39mself\u001b[39;49m\u001b[39m.\u001b[39;49m_select(\u001b[39mself\u001b[39;49m\u001b[39m.\u001b[39;49m_readers, \u001b[39mself\u001b[39;49m\u001b[39m.\u001b[39;49m_writers, [], timeout)\n\u001b[0;32m    325\u001b[0m \u001b[39mexcept\u001b[39;00m \u001b[39mInterruptedError\u001b[39;00m:\n\u001b[0;32m    326\u001b[0m     \u001b[39mreturn\u001b[39;00m ready\n",
      "File \u001b[1;32mc:\\Users\\ifeol\\anaconda3\\lib\\selectors.py:315\u001b[0m, in \u001b[0;36mSelectSelector._select\u001b[1;34m(self, r, w, _, timeout)\u001b[0m\n\u001b[0;32m    314\u001b[0m \u001b[39mdef\u001b[39;00m \u001b[39m_select\u001b[39m(\u001b[39mself\u001b[39m, r, w, _, timeout\u001b[39m=\u001b[39m\u001b[39mNone\u001b[39;00m):\n\u001b[1;32m--> 315\u001b[0m     r, w, x \u001b[39m=\u001b[39m select\u001b[39m.\u001b[39;49mselect(r, w, w, timeout)\n\u001b[0;32m    316\u001b[0m     \u001b[39mreturn\u001b[39;00m r, w \u001b[39m+\u001b[39m x, []\n",
      "\u001b[1;31mKeyboardInterrupt\u001b[0m: "
     ]
    }
   ],
   "source": [
    "for c in consumer:\n",
    "    print(c.value)"
   ]
  },
  {
   "cell_type": "code",
   "execution_count": null,
   "metadata": {},
   "outputs": [],
   "source": []
  }
 ],
 "metadata": {
  "kernelspec": {
   "display_name": "base",
   "language": "python",
   "name": "python3"
  },
  "language_info": {
   "codemirror_mode": {
    "name": "ipython",
    "version": 3
   },
   "file_extension": ".py",
   "mimetype": "text/x-python",
   "name": "python",
   "nbconvert_exporter": "python",
   "pygments_lexer": "ipython3",
   "version": "3.9.12"
  },
  "orig_nbformat": 4,
  "vscode": {
   "interpreter": {
    "hash": "12bd547fce67ffc33a15bc6cd274a95bb9ae5322b93adf8f1bd31aed50a17bbe"
   }
  }
 },
 "nbformat": 4,
 "nbformat_minor": 2
}
